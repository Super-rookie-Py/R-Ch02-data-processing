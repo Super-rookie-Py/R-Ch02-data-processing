{
 "cells": [
  {
   "cell_type": "markdown",
   "metadata": {},
   "source": [
    "## 1. 데이터 구조"
   ]
  },
  {
   "cell_type": "markdown",
   "metadata": {},
   "source": [
    "### - 같은 데이터 형으로만 저장: 스칼라, 벡터, 행렬, 배열\n",
    "\n",
    "#### 스칼라(Scalar) :  변수 하나에 값이 하나 들어가는 경우\n",
    "#### 벡터(Vector) : 여러개의 값을 하나의 변수에 넣는 경우 (열벡터형식)\n",
    "#### 행렬(Matrix) : 여러개의 열 벡터가 모여있는 형태\n",
    "#### 배열(Array) : 3차원으로 여러개의 행렬이 곂쳐있는 형태\n",
    "\n",
    "#### 하나의 같은 형으로 숫자형만 저장되거나 문자형으로만 저장되어야 한다."
   ]
  },
  {
   "cell_type": "markdown",
   "metadata": {},
   "source": [
    "### - 서로 다른 유형의 데이터형 저장 가능: 데이터 프레임, 리스트\n",
    "\n",
    "#### 데이터 프레임 - 문자형 데이터와 숫자형 데이터를 같이 저장할 수 있다.\n",
    "\n",
    "#### 리스트 - 배열, 백터, 행렬 등 전부 저장해 놓을 수 있다."
   ]
  },
  {
   "cell_type": "markdown",
   "metadata": {},
   "source": [
    "## 데이터 가져오기\n",
    "\n",
    "#### Read.table: txt 파일 가져오기 (파일이름, tab으로 구분)\n",
    "\n",
    "#### Read.csv : csv 파일 가져오기 (파일이름.csv, \",\"로 구분)\n",
    "\n",
    "#### Read_excel: excel 파일 가져오기 (파일이름.xlsx, libarary 기능 추가 필요)\n",
    "\n",
    "#### 그 외에 SPSS, JSON 등의 파일도 연결가능"
   ]
  },
  {
   "cell_type": "markdown",
   "metadata": {},
   "source": [
    "#### header = FALSE  , 첫 행이 변수명이 있는지 없는지 없으면FALSE\n",
    "#### sep(구분자), \",\" or \" \" or \":\" or \"\\t\" (tab)\n",
    "#### stringsAsFactor = 문자 데이터를 요인으로 인식(TRUE)\n",
    "#### na.strings = \"\", \".\", \"NA\" 값이 안들어와 있을때 사용할 값"
   ]
  },
  {
   "cell_type": "code",
   "execution_count": null,
   "metadata": {},
   "outputs": [],
   "source": []
  }
 ],
 "metadata": {
  "kernelspec": {
   "display_name": "Python 3",
   "language": "python",
   "name": "python3"
  },
  "language_info": {
   "codemirror_mode": {
    "name": "ipython",
    "version": 3
   },
   "file_extension": ".py",
   "mimetype": "text/x-python",
   "name": "python",
   "nbconvert_exporter": "python",
   "pygments_lexer": "ipython3",
   "version": "3.6.2"
  }
 },
 "nbformat": 4,
 "nbformat_minor": 4
}
